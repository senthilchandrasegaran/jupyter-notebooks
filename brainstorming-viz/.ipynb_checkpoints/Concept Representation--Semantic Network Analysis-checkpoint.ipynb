{
 "cells": [
  {
   "cell_type": "markdown",
   "metadata": {},
   "source": [
    "# Analysis of brainstorming annotations\n",
    "The following is an analysis based on the sketch annotations collected from a total of 18 teams.\n",
    "9 of the teams performed what is called \"free\" brainstorming, while then remaining 9 performed an alternating divergent-convergent process.\n",
    "We had earlier attempted a semantic analysis of their transcript, separating the convergent and divergent processes.\n",
    "We now analyze all annotations collected from the team sketches.\n",
    "\n",
    "## Data Collection\n",
    "While a semantic network analysis is not very straightforward to do when it comes to annotations (there are no sentences, and word co-occurrence is thus a difficult concept to establish).\n",
    "We thus define word co-occurrence as words that describe different parts of the same idea.\n",
    "In most cases, this means that words that appear on the same sketch are treated as part of the same \"sentence\".\n",
    "In other cases, we combined words that clearly and unambiguously described the same idea or class of ideas.\n",
    "\n",
    "## Code Credits\n",
    "A lot of this code is inspired from, and in several cases reused directly from the code written by Moses Boudourides, Sergios Lenis & Pantelis Vikatos. Their version can be seen at: http://mboudour.github.io/2016/03/22/Clinton-Sanders-Word-Nets.html\n",
    "\n",
    "We change some aspects of the commonality functions and co-occurrence functions to suit our requirements, see code comments that accompany these functions below for details."
   ]
  },
  {
   "cell_type": "code",
   "execution_count": null,
   "metadata": {
    "collapsed": true
   },
   "outputs": [],
   "source": [
    "# Get all imports out of the way\n",
    "import nltk\n",
    "from nltk.corpus import wordnet as wn\n",
    "from nltk.corpus import wordnet_ic\n",
    "from nltk.corpus import stopwords\n",
    "from nltk.corpus.reader.wordnet import information_content\n",
    "from nltk.tokenize import sent_tokenize\n",
    "import itertools\n",
    "import codecs\n",
    "import re\n",
    "import pprint as pp\n",
    "import operator\n",
    "from collections import OrderedDict\n",
    "from collections import Counter\n",
    "import csv\n",
    "import pandas as pd\n",
    "import numpy as np\n",
    "import matplotlib.pyplot as plt\n",
    "import networkx as nx"
   ]
  },
  {
   "cell_type": "code",
   "execution_count": null,
   "metadata": {
    "collapsed": true
   },
   "outputs": [],
   "source": []
  }
 ],
 "metadata": {
  "kernelspec": {
   "display_name": "Python 3",
   "language": "python",
   "name": "python3"
  },
  "language_info": {
   "codemirror_mode": {
    "name": "ipython",
    "version": 3
   },
   "file_extension": ".py",
   "mimetype": "text/x-python",
   "name": "python",
   "nbconvert_exporter": "python",
   "pygments_lexer": "ipython3",
   "version": "3.5.1"
  }
 },
 "nbformat": 4,
 "nbformat_minor": 0
}
